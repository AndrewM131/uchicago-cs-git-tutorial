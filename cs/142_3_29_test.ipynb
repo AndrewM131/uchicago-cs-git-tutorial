{
 "cells": [
  {
   "cell_type": "code",
   "execution_count": 16,
   "metadata": {},
   "outputs": [],
   "source": [
    "'''\n",
    "Hw#1 due Tomorrow\n",
    "Go to discussion session\n",
    "\n",
    "Private:\n",
    "_foo\n",
    "__foo\n",
    "2nd is more private\n",
    "'''\n",
    "from typing import List\n",
    "\n",
    "class Course:\n",
    "\n",
    "    code: str\n",
    "    name: str\n",
    "\n",
    "    def __init__(self, code:str, name:str):\n",
    "        self.code = code\n",
    "        self.name = name\n",
    "\n",
    "class Student:\n",
    "\n",
    "    name: str\n",
    "    student_id: int\n",
    "\n",
    "    def __init__(self, name: str, student_id: int):\n",
    "        self.name = name\n",
    "        self.id = student_id\n",
    "\n",
    "class CourseOffering:\n",
    "\n",
    "    course: Course\n",
    "    year: int\n",
    "    _students: List[Student]\n",
    "\n",
    "    def __init__(self, course: Course, year: int):\n",
    "        self.course = course\n",
    "        self.year = year\n",
    "        self.__students = []\n",
    "    \n",
    "    def add_student(self, student: Student) -> None:\n",
    "        self.__students.append(student)\n",
    "\n",
    "    @property\n",
    "    def num_students(self) -> int:\n",
    "        return len(self.__students)\n",
    "\n",
    "\n",
    "st1 = Student('Alex', 123)\n",
    "st2 = Student('Sam', 456)\n",
    "cs142 = Course(\"CS 142\", 'Intro CS 2')\n"
   ]
  },
  {
   "cell_type": "code",
   "execution_count": 17,
   "metadata": {},
   "outputs": [],
   "source": [
    "co = CourseOffering(cs142, 2023)"
   ]
  },
  {
   "cell_type": "code",
   "execution_count": 18,
   "metadata": {},
   "outputs": [],
   "source": [
    "co.add_student(st1)"
   ]
  },
  {
   "cell_type": "code",
   "execution_count": 20,
   "metadata": {},
   "outputs": [
    {
     "data": {
      "text/plain": [
       "1"
      ]
     },
     "execution_count": 20,
     "metadata": {},
     "output_type": "execute_result"
    }
   ],
   "source": [
    "co.num_students"
   ]
  },
  {
   "cell_type": "code",
   "execution_count": null,
   "metadata": {},
   "outputs": [],
   "source": [
    "'''\n",
    "            2\n",
    "          /   \\ \n",
    "         3     5\n",
    "        / \\     \\ \n",
    "       11  4     17\n",
    "      /  \\ \n",
    "     6    12 \n",
    "'''\n",
    "\n",
    "from tree import TreeNode\n",
    "from math import inf\n",
    "\n",
    "def increasing_paths(t: TreeNode) -> bool:\n",
    "    increasing_paths_r(t, -inf)\n",
    "\n",
    "def increasing_paths_r(t: TreeNode, parent: int) -> bool:\n",
    "    if t.value <= parent:\n",
    "        return False\n",
    "    \n",
    "    for child in t.children:\n",
    "        if not increasing_paths_r(child, t.value):\n",
    "            return False\n",
    "    \n",
    "    return True\n",
    "\n",
    "def count_children_r(t: TreeNode) -> int:\n",
    "    if t.is_leaf(t):\n",
    "        return 0\n",
    "    \n",
    "    childcount: int = len(t.children)\n",
    "\n",
    "    for child in t.children:\n",
    "        childcount += count_children_r(child)\n",
    "\n",
    "    return childcount\n"
   ]
  },
  {
   "cell_type": "code",
   "execution_count": null,
   "metadata": {},
   "outputs": [],
   "source": []
  }
 ],
 "metadata": {
  "kernelspec": {
   "display_name": "Python 3",
   "language": "python",
   "name": "python3"
  },
  "language_info": {
   "codemirror_mode": {
    "name": "ipython",
    "version": 3
   },
   "file_extension": ".py",
   "mimetype": "text/x-python",
   "name": "python",
   "nbconvert_exporter": "python",
   "pygments_lexer": "ipython3",
   "version": "3.8.10"
  },
  "orig_nbformat": 4
 },
 "nbformat": 4,
 "nbformat_minor": 2
}
